{
 "cells": [
  {
   "cell_type": "code",
   "execution_count": null,
   "id": "4b20bcb0",
   "metadata": {},
   "outputs": [],
   "source": [
    "import requests\n",
    "from bs4 import BeautifulSoup\n",
    "import pandas as pd"
   ]
  },
  {
   "cell_type": "code",
   "execution_count": null,
   "id": "b0cb7f91",
   "metadata": {},
   "outputs": [],
   "source": [
    "html = requests.get(\"https://deeplearning.cms.waikato.ac.nz/user-guide/class-maps/IMAGENET/\").text\n",
    "soup = BeautifulSoup(html, 'html.parser')\n",
    "table = soup.find_all('table')[0]"
   ]
  },
  {
   "cell_type": "code",
   "execution_count": null,
   "id": "66b7867b",
   "metadata": {},
   "outputs": [],
   "source": [
    "IMGNET_CLASS_LIST = {\"id\":[], \"label\":[]}\n",
    "for tr in table.find_all('tr'):\n",
    "    tds = tr.find_all('td')\n",
    "    if len(tds) > 0:\n",
    "        IMGNET_CLASS_LIST['id'].append(tds[0].text)\n",
    "        IMGNET_CLASS_LIST['label'].append(tds[1].text)\n",
    "        \n",
    "IMGNET_CLASS_LIST = pd.DataFrame(IMGNET_CLASS_LIST)\n",
    "IMGNET_CLASS_LIST.to_csv('imagenet_class_list.csv', index=False)"
   ]
  }
 ],
 "metadata": {
  "language_info": {
   "name": "python"
  }
 },
 "nbformat": 4,
 "nbformat_minor": 5
}
